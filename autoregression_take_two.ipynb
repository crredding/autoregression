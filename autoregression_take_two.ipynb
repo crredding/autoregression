{
 "cells": [
  {
   "cell_type": "code",
   "execution_count": 1,
   "metadata": {},
   "outputs": [
    {
     "name": "stdout",
     "output_type": "stream",
     "text": [
      "/Users/macbookpro/Dropbox/Galvanize/autoregression\r\n"
     ]
    }
   ],
   "source": [
    "# !ls\n",
    "!pwd"
   ]
  },
  {
   "cell_type": "code",
   "execution_count": 3,
   "metadata": {},
   "outputs": [],
   "source": [
    "import sys \n",
    "import os\n",
    "# from autoregression import cleandata\n",
    "# from autoregression import autoregression\n",
    "# import importlib\n",
    "import autoregression\n",
    "# from autoregression import compare_predictions\n",
    "# from autoregression import galgraphs\n",
    "from sklearn.model_selection import cross_validate\n",
    "# import warnings\n",
    "# warnings.filterwarnings('ignore')"
   ]
  },
  {
   "cell_type": "code",
   "execution_count": 5,
   "metadata": {},
   "outputs": [
    {
     "data": {
      "text/plain": [
       "['/Users/macbookpro/Dropbox/Galvanize/autoregression/autoregression']"
      ]
     },
     "execution_count": 5,
     "metadata": {},
     "output_type": "execute_result"
    }
   ],
   "source": [
    "autoregression.__path__"
   ]
  },
  {
   "cell_type": "code",
   "execution_count": null,
   "metadata": {},
   "outputs": [],
   "source": []
  },
  {
   "cell_type": "markdown",
   "metadata": {},
   "source": [
    "# indians diabetes"
   ]
  },
  {
   "cell_type": "markdown",
   "metadata": {},
   "source": [
    "## Continuous"
   ]
  },
  {
   "cell_type": "code",
   "execution_count": 4,
   "metadata": {
    "scrolled": false
   },
   "outputs": [
    {
     "ename": "AttributeError",
     "evalue": "module 'autoregression' has no attribute 'compare_predictions'",
     "output_type": "error",
     "traceback": [
      "\u001b[0;31m---------------------------------------------------------------------------\u001b[0m",
      "\u001b[0;31mAttributeError\u001b[0m                            Traceback (most recent call last)",
      "\u001b[0;32m<ipython-input-4-a6fadd28dc62>\u001b[0m in \u001b[0;36m<module>\u001b[0;34m()\u001b[0m\n\u001b[1;32m      1\u001b[0m \u001b[0miris_df\u001b[0m \u001b[0;34m=\u001b[0m \u001b[0mpd\u001b[0m\u001b[0;34m.\u001b[0m\u001b[0mread_csv\u001b[0m\u001b[0;34m(\u001b[0m\u001b[0;34m'https://raw.githubusercontent.com/mwaskom/seaborn-data/master/iris.csv'\u001b[0m\u001b[0;34m)\u001b[0m\u001b[0;34m\u001b[0m\u001b[0m\n\u001b[0;32m----> 2\u001b[0;31m \u001b[0mautoregression\u001b[0m\u001b[0;34m.\u001b[0m\u001b[0mcompare_predictions\u001b[0m\u001b[0;34m(\u001b[0m\u001b[0miris_df\u001b[0m\u001b[0;34m.\u001b[0m\u001b[0mdrop\u001b[0m\u001b[0;34m(\u001b[0m\u001b[0;34m'species'\u001b[0m\u001b[0;34m,\u001b[0m\u001b[0maxis\u001b[0m\u001b[0;34m=\u001b[0m\u001b[0;36m1\u001b[0m\u001b[0;34m)\u001b[0m\u001b[0;34m,\u001b[0m\u001b[0;34m'petal_length'\u001b[0m\u001b[0;34m)\u001b[0m\u001b[0;34m\u001b[0m\u001b[0m\n\u001b[0m",
      "\u001b[0;31mAttributeError\u001b[0m: module 'autoregression' has no attribute 'compare_predictions'"
     ]
    }
   ],
   "source": [
    "iris_df = pd.read_csv('https://raw.githubusercontent.com/mwaskom/seaborn-data/master/iris.csv')\n",
    "autoregression.compare_predictions(iris_df.drop('species',axis=1),'petal_length')"
   ]
  },
  {
   "cell_type": "code",
   "execution_count": null,
   "metadata": {},
   "outputs": [],
   "source": [
    "names1, results1, models1, pipeline1 = autoregression.compare_predictions(df,'age', univariates=False)"
   ]
  },
  {
   "cell_type": "code",
   "execution_count": null,
   "metadata": {},
   "outputs": [],
   "source": []
  },
  {
   "cell_type": "code",
   "execution_count": null,
   "metadata": {},
   "outputs": [],
   "source": []
  },
  {
   "cell_type": "code",
   "execution_count": null,
   "metadata": {},
   "outputs": [],
   "source": []
  },
  {
   "cell_type": "code",
   "execution_count": null,
   "metadata": {},
   "outputs": [],
   "source": []
  },
  {
   "cell_type": "code",
   "execution_count": null,
   "metadata": {},
   "outputs": [],
   "source": []
  },
  {
   "cell_type": "code",
   "execution_count": null,
   "metadata": {},
   "outputs": [],
   "source": [
    "# Compare Algorithms\n",
    "import pandas\n",
    "import matplotlib.pyplot as plt\n",
    "from sklearn import model_selection\n",
    "from sklearn.linear_model import LogisticRegression, RidgeCV, LassoCV\n",
    "from sklearn.tree import DecisionTreeClassifier, DecisionTreeRegressor\n",
    "from sklearn.neighbors import KNeighborsClassifier\n",
    "from sklearn.discriminant_analysis import LinearDiscriminantAnalysis\n",
    "from sklearn.naive_bayes import GaussianNB\n",
    "from sklearn.svm import SVC\n",
    "from sklearn.metrics import auc, roc_curve\n",
    "# load dataset\n",
    "url = \"https://raw.githubusercontent.com/jbrownlee/Datasets/master/pima-indians-diabetes.data.csv\"\n",
    "names = ['preg', 'plas', 'pres', 'skin', 'test', 'mass', 'pedi', 'age', 'class']\n",
    "df = pandas.read_csv(url, names=names)\n",
    "array = df.values\n",
    "df = cleandata.rename_columns(df)\n",
    "df.head(3)\n",
    "plt.rcParams.update({'figure.max_open_warning': 0})"
   ]
  },
  {
   "cell_type": "code",
   "execution_count": null,
   "metadata": {},
   "outputs": [],
   "source": []
  },
  {
   "cell_type": "code",
   "execution_count": null,
   "metadata": {},
   "outputs": [],
   "source": []
  },
  {
   "cell_type": "code",
   "execution_count": null,
   "metadata": {},
   "outputs": [],
   "source": []
  },
  {
   "cell_type": "code",
   "execution_count": null,
   "metadata": {},
   "outputs": [],
   "source": []
  },
  {
   "cell_type": "code",
   "execution_count": null,
   "metadata": {},
   "outputs": [],
   "source": []
  },
  {
   "cell_type": "code",
   "execution_count": null,
   "metadata": {},
   "outputs": [],
   "source": [
    "ridge_regularization_strengths = np.logspace(np.log10(0.000001), np.log10(100000000), num=100)\n",
    "ridge_regressions = []\n",
    "y=df['age']\n",
    "df_X = df.drop('age', axis=1)\n",
    "for alpha in ridge_regularization_strengths:\n",
    "    ridge = Ridge(alpha=alpha)\n",
    "    ridge.fit(df_X, y)\n",
    "    ridge_regressions.append(ridge)"
   ]
  },
  {
   "cell_type": "code",
   "execution_count": null,
   "metadata": {},
   "outputs": [],
   "source": [
    "def plot_solution_paths(ax, regressions):\n",
    "    alphas = [np.log10(ridge.alpha) for ridge in regressions]\n",
    "    coeffs = np.concatenate([ridge.coef_.reshape(1, -1) \n",
    "                             for ridge in regressions])\n",
    "    for idx in range(coeffs.shape[1]):\n",
    "        ax.plot(alphas, coeffs[:, idx])\n",
    "    ax.set_xlabel(r\"$\\log_{10}(\\alpha)$\")\n",
    "    ax.set_ylabel(\"Estiamted Coefficient\")\n",
    "    ax.set_title(\"Coefficient Paths\")"
   ]
  },
  {
   "cell_type": "code",
   "execution_count": null,
   "metadata": {},
   "outputs": [],
   "source": [
    "fig, ax = plt.subplots(figsize=(16, 6))\n",
    "plot_solution_paths(ax, ridge_regressions)"
   ]
  },
  {
   "cell_type": "markdown",
   "metadata": {},
   "source": [
    "## Categorical"
   ]
  },
  {
   "cell_type": "code",
   "execution_count": null,
   "metadata": {},
   "outputs": [],
   "source": [
    "names2, results2, models2, pipeline2 = autoregression.compare_predictions(df, 'class', univariates=False)"
   ]
  },
  {
   "cell_type": "code",
   "execution_count": null,
   "metadata": {},
   "outputs": [],
   "source": [
    "plt.matshow(df.corr())"
   ]
  },
  {
   "cell_type": "code",
   "execution_count": null,
   "metadata": {},
   "outputs": [],
   "source": [
    "(continuous_features, category_features) = autoregression.sort_features(df)\n",
    "if len(continuous_features)>15:\n",
    "    df_graphable = df[continuous_features[:15]].sample(n=1000)\n",
    "    print('More continuous features than are graphable in scatter_matrix')\n",
    "pd.scatter_matrix(df_graphable, figsize=(len(df_graphable)*.11,len(df_graphable)*.1))\n",
    "plt.show()"
   ]
  },
  {
   "cell_type": "code",
   "execution_count": null,
   "metadata": {},
   "outputs": [],
   "source": [
    "# def plot_roc(model, df_X, y, pipeline=None):\n",
    "#     # calculate the fpr and tpr for all thresholds of the classification\n",
    "#     if pipeline:\n",
    "#         probs = model.predict_proba(pipeline.transform(df_X))\n",
    "#     else:\n",
    "#         probs = model.predict_proba(df_X)\n",
    "#     preds = probs[:,1]\n",
    "#     fpr, tpr, threshold = roc_curve(y, preds)\n",
    "#     roc_auc = auc(fpr, tpr)\n",
    "    \n",
    "#     plt.title('Receiver Operating Characteristic')\n",
    "#     plt.plot(fpr, tpr, 'b', label = 'AUC = %0.2f' % roc_auc)\n",
    "#     plt.legend(loc = 'lower right')\n",
    "#     plt.plot([0, 1], [0, 1],'r--')\n",
    "#     plt.xlim([0, 1])\n",
    "#     plt.ylim([0, 1])\n",
    "#     plt.ylabel('True Positive Rate')\n",
    "#     plt.xlabel('False Positive Rate')\n",
    "#     plt.show()\n",
    "\n",
    "# make_roc(df_X=df.drop('class', axis=1), y=df['class'], model=models2[0][1], pipeline=pipeline2)\n",
    "\n",
    "# def plot_rocs(models, df_X, y, pipeline=None):\n",
    "#     fig, ax = plt.subplots(1,1)\n",
    "#     for model in models:\n",
    "#          galgraphs.plot_roc(ax, model, df_X, y, pipeline)\n",
    "galgraphs.plot_rocs(models2, df_X=df.drop('class', axis=1), y=df['class'], pipeline=pipeline2)"
   ]
  },
  {
   "cell_type": "markdown",
   "metadata": {},
   "source": [
    "# Random Uniform Line with Jitter"
   ]
  },
  {
   "cell_type": "code",
   "execution_count": null,
   "metadata": {
    "scrolled": false
   },
   "outputs": [],
   "source": [
    "import random\n",
    "# balance_real = pd.read_csv(\"/Users/macbookpro/Dropbox/Galvanize/dsi-practical-linear-regression/data/balance.csv\", index_col=0)\n",
    "# iris = pd.read_csv('https://raw.githubusercontent.com/mwaskom/seaborn-data/master/iris.csv')\n",
    "\n",
    "x1 = np.random.uniform(0,30,50)\n",
    "x2 = np.random.uniform(0,50,50)\n",
    "x3 = np.random.uniform(0,100,50)\n",
    "y = x1 + x2 + x3 + np.random.uniform(0.0, 10, size=len(x1))\n",
    "data = np.zeros((len(x1),4))\n",
    "data[:,0] = x1\n",
    "for i, col in enumerate([x1,x2,x3,y]):\n",
    "    data[:,i] = col\n",
    "df = pd.DataFrame(data, columns = ['x1','x2','x3','y'])\n",
    "df['x4'] = df['x1']< 20\n",
    "df['x4']=df['x4'].astype('float')\n",
    "names3, results3, models3, pipeline3 = autoregression.compare_predictions(df,'y')"
   ]
  },
  {
   "cell_type": "code",
   "execution_count": null,
   "metadata": {},
   "outputs": [],
   "source": [
    "results1"
   ]
  },
  {
   "cell_type": "code",
   "execution_count": null,
   "metadata": {},
   "outputs": [],
   "source": [
    "is_continuous=True\n",
    "if not is_continuous:\n",
    "    print('Not continuosu')"
   ]
  },
  {
   "cell_type": "code",
   "execution_count": null,
   "metadata": {},
   "outputs": [],
   "source": [
    "results= results2\n",
    "scoring = 'MSE'\n",
    "\n",
    "negresults = []\n",
    "for i, result in enumerate(results):\n",
    "    negresults.append(-1*result)\n",
    "    \n",
    "fig, ax = plt.subplots(2,2, figsize=(20,20))\n",
    "ax = ax.flatten()\n",
    "fig.suptitle(f'Model Crossval Scores: -{scoring}')\n",
    "ax[0].set_ylabel(f'{scoring}')\n",
    "\n",
    "import matplotlib\n",
    "# BOX PLOTS\n",
    "ax[0].boxplot(negresults)\n",
    "ax[0].set_xticklabels(names)\n",
    "\n",
    "\n",
    "# VIOLIN PLOTS\n",
    "ax[1].violinplot(negresults)\n",
    "ax[1].set_xticklabels(names)\n",
    "\n",
    "#BOX PLOTS OF -LOG(ERROR)\n",
    "logresults=[] \n",
    "ax[2].boxplot(negresults)\n",
    "ax[2].set_xticklabels(names)\n",
    "ax[2].set_ylabel(f'-{scoring}')\n",
    "ax[2].set_yscale('log')\n",
    "ax[2].get_yaxis().set_major_formatter(matplotlib.ticker.ScalarFormatter())\n",
    "\n",
    "#VIOLIN PLOTS OF -LOG(ERROR)\n",
    "logresults=[]\n",
    "ax[3].violinplot(negresults)\n",
    "ax[3].set_xticklabels(names)\n",
    "ax[3].set_ylabel(f'-{scoring}')\n",
    "ax[3].set_yscale('log')\n",
    "ax[3].get_yaxis().set_major_formatter(matplotlib.ticker.ScalarFormatter())\n",
    "plt.show()\n"
   ]
  },
  {
   "cell_type": "code",
   "execution_count": null,
   "metadata": {},
   "outputs": [],
   "source": [
    "fig, ax = plt.subplots(2,2, figsize=(20,20))\n",
    "ax = ax.flatten()\n",
    "fig.suptitle(f'Model Crossval Scores: {scoring}')\n",
    "ax[0].set_ylabel(f'{scoring}')\n",
    "\n",
    "# BOX PLOTS\n",
    "ax[0].boxplot(results)\n",
    "ax[0].set_xticklabels(names)\n",
    "\n",
    "# VIOLIN PLOTS\n",
    "ax[1].violinplot(results)\n",
    "ax[1].set_xticklabels(names)\n",
    "\n",
    "#BOX PLOTS OF -LOG(ERROR)\n",
    "logresults=[] \n",
    "ax[2].boxplot(results)\n",
    "ax[2].set_xticklabels(names)\n",
    "ax[2].set_ylabel(f'{scoring}')\n",
    "ax[2].set_yscale('log')\n",
    "ax[2].get_yaxis().set_major_formatter(matplotlib.ticker.ScalarFormatter())\n",
    "\n",
    "#VIOLIN PLOTS OF -LOG(ERROR)\n",
    "logresults=[]\n",
    "ax[3].violinplot(results, vert=False)\n",
    "ax[3].set_yticklabels(names)\n",
    "ax[3].set_xlabel(f'-{scoring}')\n",
    "ax[3].set_xscale('log')\n",
    "ax[3].get_xaxis().set_major_formatter(matplotlib.ticker.ScalarFormatter())\n",
    "plt.show()"
   ]
  },
  {
   "cell_type": "markdown",
   "metadata": {},
   "source": [
    "# Machine sales Case study"
   ]
  },
  {
   "cell_type": "code",
   "execution_count": null,
   "metadata": {},
   "outputs": [],
   "source": [
    "import cleandata"
   ]
  },
  {
   "cell_type": "code",
   "execution_count": null,
   "metadata": {},
   "outputs": [],
   "source": [
    "def get_age_feature(df, datapoints):\n",
    "    df = df.head(datapoints);\n",
    "    df.saledate = pd.to_datetime(df.saledate)\n",
    "    df.saledate = df.saledate.dt.year\n",
    "    df['age'] = df.year_made - df.saledate\n",
    "    df = df.drop('saledate', axis=1)\n",
    "    df['age_too_old'] = df['age']<-500\n",
    "    return df\n",
    "\n",
    "\n",
    "\n",
    "train_datapoints=100\n",
    "test_datapoints=10\n",
    "\n",
    "# GET DATA\n",
    "df_Train = pd.read_csv('/Users/macbookpro/Dropbox/Galvanize/dsi-regression-case-study/data/Train.csv')\n",
    "df_Train = cleandata.rename_columns(df_Train)\n",
    "df_Train = get_age_feature(df_Train, train_datapoints)\n",
    "df_Test = pd.read_csv('/Users/macbookpro/Dropbox/Galvanize/dsi-regression-case-study/data/Test.csv')\n",
    "df_Test = cleandata.rename_columns(df_Test)\n",
    "df_Test = get_age_feature(df_Test, test_datapoints)\n",
    "df_Train.sale_price = np.log(df_Train.sale_price)\n",
    "df_actual_answers = pd.read_csv('/Users/macbookpro/Dropbox/Galvanize/dsi-regression-case-study/data/do_not_open/test_soln.csv')\n",
    "df_actual_answers = df_actual_answers[0:test_datapoints];"
   ]
  },
  {
   "cell_type": "code",
   "execution_count": null,
   "metadata": {},
   "outputs": [],
   "source": [
    "y_var_name = 'sale_price'\n",
    "(continuous_features, category_features) = autoregression.sort_features(df_Train.sample(n=500))\n",
    "if y_var_name in continuous_features:\n",
    "    continuous_features.remove(y_var_name)\n",
    "while 5 < len(continuous_features):\n",
    "    plot_sample_df = df_Train[[y_var_name] + continuous_features[:6]].sample(n=300)\n",
    "    pd.scatter_matrix(plot_sample_df, figsize=(len(plot_sample_df)*.07,len(plot_sample_df)*.07))\n",
    "    continuous_features = continuous_features[5:]\n",
    "plot_sample_df = df_Train[[y_var_name] + continuous_features].sample(n=300)\n",
    "pd.scatter_matrix(plot_sample_df, figsize=(len(plot_sample_df)*.1,len(plot_sample_df)*.1))\n",
    "plt.show()"
   ]
  },
  {
   "cell_type": "code",
   "execution_count": null,
   "metadata": {
    "scrolled": false
   },
   "outputs": [],
   "source": [
    "df_Train.columns"
   ]
  },
  {
   "cell_type": "code",
   "execution_count": null,
   "metadata": {},
   "outputs": [],
   "source": [
    "df_Train = df_Train[['sales_i_d', 'sale_price', 'machine_i_d', 'model_i_d', 'datasource',\n",
    "       'auctioneer_i_d', 'year_made', 'machine_hours_current_meter',\n",
    "       'usage_band', 'differential_type', 'steering_controls', 'age',\n",
    "       'age_too_old']]"
   ]
  },
  {
   "cell_type": "code",
   "execution_count": null,
   "metadata": {},
   "outputs": [],
   "source": [
    "df_Test = df_Test[['sales_i_d', 'machine_i_d', 'model_i_d', 'datasource',\n",
    "       'auctioneer_i_d', 'year_made', 'machine_hours_current_meter',\n",
    "       'usage_band', 'differential_type', 'steering_controls', 'age',\n",
    "       'age_too_old']]"
   ]
  },
  {
   "cell_type": "code",
   "execution_count": null,
   "metadata": {},
   "outputs": [],
   "source": [
    "def timeit(func, *args):\n",
    "        start = time.time()\n",
    "        answers = func(args)\n",
    "        stop = time.time()\n",
    "        print(f'{str(func.__name__).upper()} TIME: {stop-start}')\n",
    "        return answers\n",
    "timeit(sum, 1, 1)"
   ]
  },
  {
   "cell_type": "code",
   "execution_count": null,
   "metadata": {},
   "outputs": [],
   "source": [
    "'hi'.upper()"
   ]
  },
  {
   "cell_type": "code",
   "execution_count": null,
   "metadata": {
    "scrolled": true
   },
   "outputs": [],
   "source": [
    "namesBIG, resultsBIG, modelsBIG, pipelineBIG = autoregression.compare_predictions(df=df_Train, y_var_name=\"sale_price\", knots=5, univariates=False, bootstraps=5)"
   ]
  },
  {
   "cell_type": "code",
   "execution_count": null,
   "metadata": {},
   "outputs": [],
   "source": [
    "names, results, models, pipeline = autoregression.compare_predictions(df=df_Train.head(100), y_var_name=\"sale_price\", knots=5, univariates=True)"
   ]
  },
  {
   "cell_type": "raw",
   "metadata": {},
   "source": [
    "# (continuous_features, category_features) = autoregression.sort_features(df)\n",
    "# continuous_features.remove('age')\n",
    "# # models = bootstrap_train(\n",
    "# #     LinearRegression, \n",
    "# #     df[continuous_features].values, \n",
    "# #     df['age'],\n",
    "# #     fit_intercept=False\n",
    "# # )\n",
    "\n",
    "# # autoregression.auto_spline_pipeliner\n",
    "# fig, axs = plot_partial_dependences(\n",
    "#      models1[0][1], \n",
    "#      X=df[continuous_features],\n",
    "#      var_names=continuous_features\n",
    "# #      pipeline=autoregression.auto_spline_pipeliner(df[continuous_features]).fit(df[continuous_features]),\n",
    "# #      bootstrap_models=models,\n",
    "# #      y=df['age']\n",
    "#     )\n",
    "# fig.tight_layout()\n",
    "# NEXT ADD:\n",
    "# partial dependency for each one properly formatted.\n"
   ]
  },
  {
   "cell_type": "code",
   "execution_count": null,
   "metadata": {},
   "outputs": [],
   "source": []
  }
 ],
 "metadata": {
  "kernelspec": {
   "display_name": "Python 3",
   "language": "python",
   "name": "python3"
  },
  "language_info": {
   "codemirror_mode": {
    "name": "ipython",
    "version": 3
   },
   "file_extension": ".py",
   "mimetype": "text/x-python",
   "name": "python",
   "nbconvert_exporter": "python",
   "pygments_lexer": "ipython3",
   "version": "3.6.4"
  }
 },
 "nbformat": 4,
 "nbformat_minor": 2
}
